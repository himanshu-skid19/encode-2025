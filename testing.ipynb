{
 "cells": [
  {
   "cell_type": "code",
   "execution_count": null,
   "metadata": {},
   "outputs": [
    {
     "name": "stdout",
     "output_type": "stream",
     "text": [
      "[{'title': 'GeForce RTX 3060 GPUs / Video Graphics Cards | Newegg.com', 'url': '', 'snippet': 'Shop GeForce RTX 3060 GPUs / Video Graphics Cards on Newegg.com. Watch for amazing deals and get great pricing.'}, {'title': 'RTX 3060 Price Tracker US - Jan 2025 - bestvaluegpu.com', 'url': '', 'snippet': 'Nvidia RTX 3060 price tracker provides current and historical graphics card pricing data in the US market. To help you make an informed decision. ... Nvidia RTX 3060 price is $279 on Amazon currently. Used price is around $190 on ebay. The release price (MSRP) in US was $329 at launch. MSI Gaming GeForce RTX 3060'}, {'title': 'NVIDIA GeForce RTX 3060 GPUs / Video Graphics Cards', 'url': '', 'snippet': 'Find low everyday prices and buy online for delivery or in-store pick-up ... Current Deals. On Sale; Clearance; Price. to. $250 - $499.99; Discount. All Discounted Items; Customer Rating. Top-Rated; 4 & Up; ... NVIDIA GeForce RTX 3060 Ventus 3X 12G OC - 12GB GDDR6 - PCI Express 4.0 - Graphics Card - Black ...'}, {'title': 'Amazon.com: Rtx 3060', 'url': '', 'snippet': 'ZOTAC Gaming GeForce RTX 3060 Twin Edge OC 12GB GDDR6 192-bit 15 Gbps PCIE 4.0 Graphics Card, IceStorm 2.0 Cooling, Active Fan Control, Freeze Fan Stop ZT-A30600H-10M. 4.7 out of 5 stars. 4,431. See options. No featured offers available $327.37 (4 used & new offers) ... Price. $26 - $2,800+ Go. Deals & Discounts ...'}, {'title': 'RTX 3060 - Best Buy', 'url': '', 'snippet': 'Shop for RTX 3060 at Best Buy. Find low everyday prices and buy online for delivery or in-store pick-up. ... Excellent GPU to grab for any build at an affordable price point!...MSI - NVIDIA GeForce RTX 3060 Ventus 3X 12G OC - 1...this MSI - NVIDIA GeForce RTX 3060 Ventus 3X 12G OC - 12GB GDDR6 - PCI Express 4.0 - Graphics Card - Black is really ...'}]\n"
     ]
    }
   ],
   "source": [
    "\n",
    "\n",
    "def duckduckgo_search(query, max_results=5):\n",
    "    from duckduckgo_search import DDGS\n",
    "\n",
    "    results = []\n",
    "    try:\n",
    "        with DDGS() as ddgs:\n",
    "            search_results = ddgs.text(query, max_results=max_results)\n",
    "            for r in search_results:\n",
    "                results.append({\n",
    "                    \"title\": r.get(\"title\", \"\"),\n",
    "                    \"url\": r.get(\"url\", \"\"), \n",
    "                    \"snippet\": r.get(\"body\", \"\")\n",
    "                })\n",
    "    except Exception as e:\n",
    "        print(f\"Error occurred: {str(e)}\")\n",
    "        return [{\"title\": \"Error occurred\", \"url\": \"\", \"snippet\": str(e)}]\n",
    "    \n",
    "    if not results:\n",
    "        return [{\"title\": \"No results found\", \"url\": \"\", \"snippet\": \"\"}]\n",
    "    \n",
    "    return results\n",
    "\n",
    "\n",
    "\n",
    "results = duckduckgo_search(\"Current price of rtx 3060\")\n",
    "print(results)"
   ]
  }
 ],
 "metadata": {
  "kernelspec": {
   "display_name": "Python 3",
   "language": "python",
   "name": "python3"
  },
  "language_info": {
   "codemirror_mode": {
    "name": "ipython",
    "version": 3
   },
   "file_extension": ".py",
   "mimetype": "text/x-python",
   "name": "python",
   "nbconvert_exporter": "python",
   "pygments_lexer": "ipython3",
   "version": "3.11.2"
  }
 },
 "nbformat": 4,
 "nbformat_minor": 2
}
